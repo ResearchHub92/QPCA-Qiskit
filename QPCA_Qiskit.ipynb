{
  "nbformat": 4,
  "nbformat_minor": 0,
  "metadata": {
    "colab": {
      "provenance": [],
      "authorship_tag": "ABX9TyPG7jXK+SKuEWnkvBEvZEiZ"
    },
    "kernelspec": {
      "name": "python3",
      "display_name": "Python 3"
    },
    "language_info": {
      "name": "python"
    }
  },
  "cells": [
    {
      "cell_type": "markdown",
      "source": [
        "# pre installation"
      ],
      "metadata": {
        "id": "icT7no25N7tX"
      }
    },
    {
      "cell_type": "code",
      "execution_count": null,
      "metadata": {
        "id": "hVM6m0DtiFw4"
      },
      "outputs": [],
      "source": [
        "!pip install qiskit\n",
        "!pip install qiskit-aer\n",
        "!pip install qiskit[visualization]\n",
        "!pip install qiskit-ibm-runtime\n",
        "!pip install pylatexenc\n",
        "!pip install qiskit-experiments\n",
        "!pip install kagglehub[pandas-datasets]"
      ]
    },
    {
      "cell_type": "markdown",
      "source": [
        "# Import LIB"
      ],
      "metadata": {
        "id": "smXgqy_vmRnP"
      }
    },
    {
      "cell_type": "code",
      "source": [
        "from qiskit import QuantumCircuit, transpile\n",
        "from qiskit.circuit.library import ZZFeatureMap\n",
        "from sklearn.datasets import  load_iris\n",
        "from qiskit_experiments.library import StateTomography\n",
        "from qiskit import QuantumCircuit, transpile\n",
        "from qiskit_aer import Aer\n",
        "from qiskit.quantum_info import Statevector, Operator\n",
        "from qiskit.circuit.library import QFT,PauliEvolutionGate,QFT\n",
        "from qiskit.visualization import plot_histogram\n",
        "from qiskit.quantum_info import SparsePauliOp\n",
        "from qiskit.circuit.library import PhaseEstimation\n",
        "import numpy as np\n",
        "import matplotlib.pyplot as plt\n",
        "from sklearn.preprocessing import MinMaxScaler\n",
        "from sklearn.datasets import  load_iris\n",
        "from sklearn.decomposition import PCA\n",
        "import kagglehub\n",
        "from kagglehub import KaggleDatasetAdapter\n",
        "import pandas as pd\n",
        "from sklearn.datasets import fetch_california_housing, load_iris\n",
        "from sklearn.model_selection import train_test_split\n",
        "from sklearn.preprocessing import LabelEncoder\n"
      ],
      "metadata": {
        "id": "Ppp93bgRiRDU"
      },
      "execution_count": null,
      "outputs": []
    },
    {
      "cell_type": "markdown",
      "source": [
        "# DATA"
      ],
      "metadata": {
        "id": "DkmHst-LmcOy"
      }
    },
    {
      "cell_type": "code",
      "source": [
        "data = pd.read_csv('https://datacatalogfiles.worldbank.org/ddh-published/0066034/10/DR0094183/global_biod_species_occ_endemism_and_small_range.csv')"
      ],
      "metadata": {
        "id": "7BzoiFGsaSLs"
      },
      "execution_count": null,
      "outputs": []
    },
    {
      "cell_type": "code",
      "source": [
        "data.columns"
      ],
      "metadata": {
        "id": "gJZmXR0acLzt",
        "collapsed": true
      },
      "execution_count": null,
      "outputs": []
    },
    {
      "cell_type": "code",
      "source": [
        "data.shape"
      ],
      "metadata": {
        "id": "ie4CpO3MgWo_",
        "collapsed": true
      },
      "execution_count": null,
      "outputs": []
    },
    {
      "cell_type": "code",
      "source": [
        "data.dropna(inplace=True)"
      ],
      "metadata": {
        "id": "Vo9jSf1oheNL"
      },
      "execution_count": null,
      "outputs": []
    },
    {
      "cell_type": "code",
      "source": [
        "y = data['type'].values\n",
        "data = data.drop('type', axis=1)"
      ],
      "metadata": {
        "id": "f54Up44l_hPr"
      },
      "execution_count": null,
      "outputs": []
    },
    {
      "cell_type": "code",
      "source": [
        "y.reshape(-1,1)"
      ],
      "metadata": {
        "collapsed": true,
        "id": "5EIkMFaq_3RA"
      },
      "execution_count": null,
      "outputs": []
    },
    {
      "cell_type": "code",
      "source": [
        "y = pd.factorize(y)[0]"
      ],
      "metadata": {
        "id": "qml8PShoCYqo"
      },
      "execution_count": null,
      "outputs": []
    },
    {
      "cell_type": "code",
      "source": [
        "y_cls = y"
      ],
      "metadata": {
        "id": "lr5SlGFZEdfs"
      },
      "execution_count": null,
      "outputs": []
    },
    {
      "cell_type": "code",
      "source": [
        "col = data.columns\n",
        "lam = LabelEncoder()\n",
        "for i in col:\n",
        "    data[i] = lam.fit_transform(data[i])"
      ],
      "metadata": {
        "id": "X4A-oPuCFjCw"
      },
      "execution_count": null,
      "outputs": []
    },
    {
      "cell_type": "code",
      "source": [
        "X_cls = data"
      ],
      "metadata": {
        "id": "b9MBXPT0D3bU"
      },
      "execution_count": null,
      "outputs": []
    },
    {
      "cell_type": "code",
      "source": [
        "X_cls.shape"
      ],
      "metadata": {
        "id": "4sA9BGvO_p0F",
        "collapsed": true
      },
      "execution_count": null,
      "outputs": []
    },
    {
      "cell_type": "code",
      "source": [
        "pca = PCA(n_components=4)\n",
        "X_cls = pca.fit_transform(X_cls)"
      ],
      "metadata": {
        "id": "W93rweDn_6DL"
      },
      "execution_count": null,
      "outputs": []
    },
    {
      "cell_type": "code",
      "source": [
        "X_cls.shape"
      ],
      "metadata": {
        "id": "o0Lj6fk3AOk6",
        "collapsed": true
      },
      "execution_count": null,
      "outputs": []
    },
    {
      "cell_type": "code",
      "source": [
        "x_train, x_test, y_train, y_test = train_test_split(X_cls, y_cls, test_size=0.2, random_state=42)"
      ],
      "metadata": {
        "id": "I-KEgPTkiZOE"
      },
      "execution_count": null,
      "outputs": []
    },
    {
      "cell_type": "code",
      "source": [
        "scaler = MinMaxScaler(feature_range=(0, 1))\n",
        "X_normalized = scaler.fit_transform(x_train)\n",
        "X_test_normalized = scaler.transform(x_test)\n",
        "Y_normalized = scaler.fit_transform(y_train.reshape(-1, 1))\n",
        "Y_test_normalized = scaler.transform(y_test.reshape(-1, 1))\n",
        "num_dem = X_normalized.shape[1]"
      ],
      "metadata": {
        "id": "c5r7otzKibxU"
      },
      "execution_count": null,
      "outputs": []
    },
    {
      "cell_type": "code",
      "source": [
        "num_target_dim=2"
      ],
      "metadata": {
        "id": "AUGJkMU5icvE"
      },
      "execution_count": null,
      "outputs": []
    },
    {
      "cell_type": "code",
      "source": [
        "num_samples, num_features = X_normalized.shape\n",
        "next_power_of_two = 2 ** int(np.ceil(np.log2(num_features)))\n",
        "num_padding = next_power_of_two - num_features\n",
        "global_mean = np.mean(X_normalized)\n",
        "X_normalized = np.pad(X_normalized, ((0,0), (0, num_padding)), mode='constant', constant_values=global_mean)\n",
        "num_dem = X_normalized.shape[1]"
      ],
      "metadata": {
        "id": "h60hAuMgPREY"
      },
      "execution_count": null,
      "outputs": []
    },
    {
      "cell_type": "code",
      "source": [
        "X_test_normalized = np.pad(X_test_normalized, ((0,0), (0, num_padding)),\n",
        "                    mode='constant',\n",
        "                    constant_values=global_mean)"
      ],
      "metadata": {
        "id": "6ZMqf31eHRCN"
      },
      "execution_count": null,
      "outputs": []
    },
    {
      "cell_type": "code",
      "source": [
        "print(num_dem)"
      ],
      "metadata": {
        "id": "9xXvcYDQPT-X",
        "collapsed": true
      },
      "execution_count": null,
      "outputs": []
    },
    {
      "cell_type": "markdown",
      "source": [
        "# Circuit"
      ],
      "metadata": {
        "id": "g3bBCoqYmlru"
      }
    },
    {
      "cell_type": "code",
      "source": [
        "# Initial settings\n",
        "num_samples = X_normalized.shape[0]\n",
        "num_features = X_normalized.shape[1]\n",
        "num_qubits = int(np.log2(num_features))\n",
        "num_eval_qubits =num_target_dim  # Estimated number of qubits\n",
        "feature_map = ZZFeatureMap(feature_dimension=num_qubits, reps=1, entanglement='linear')\n",
        "qpe = QuantumCircuit(num_qubits + num_eval_qubits, num_eval_qubits)"
      ],
      "metadata": {
        "id": "pjPPlzehi7LY",
        "collapsed": true
      },
      "execution_count": null,
      "outputs": []
    },
    {
      "cell_type": "code",
      "source": [
        "qpe.barrier()\n",
        "qpe.draw('mpl')"
      ],
      "metadata": {
        "collapsed": true,
        "id": "fnTaWFvGnIpG"
      },
      "execution_count": null,
      "outputs": []
    },
    {
      "cell_type": "code",
      "source": [
        "# Adding Feature Map and Estimation Qubits\n",
        "qpe.append(feature_map, range(num_qubits))\n",
        "for qubit in range(num_eval_qubits):\n",
        "    qpe.h(num_qubits + qubit)"
      ],
      "metadata": {
        "id": "L-vc0A0jjC8H"
      },
      "execution_count": null,
      "outputs": []
    },
    {
      "cell_type": "code",
      "source": [
        "qpe.barrier()\n",
        "qpe.draw('mpl')"
      ],
      "metadata": {
        "collapsed": true,
        "id": "fLVuJ_0hn9uK"
      },
      "execution_count": null,
      "outputs": []
    },
    {
      "cell_type": "code",
      "source": [
        "# Applying the time evolution operator\n",
        "hamiltonian = SparsePauliOp.from_operator(np.cov(X_normalized.T) / np.trace(np.cov(X_normalized.T)))  # Density matrix\n",
        "t = 2 * np.pi\n",
        "for qubit in range(num_eval_qubits):\n",
        "    exponent = 2 ** (num_eval_qubits - qubit - 1)\n",
        "    evolution_gate = PauliEvolutionGate(hamiltonian, time=-t * exponent)\n",
        "    ctrl_evolution = evolution_gate.control(1)\n",
        "    qpe.append(ctrl_evolution, [num_qubits +qubit ] +list(range(num_qubits)))"
      ],
      "metadata": {
        "id": "CEVBrOdZjG5H"
      },
      "execution_count": null,
      "outputs": []
    },
    {
      "cell_type": "code",
      "source": [
        "qpe.barrier()\n",
        "qpe.draw('mpl')"
      ],
      "metadata": {
        "collapsed": true,
        "id": "-oNgzLXaoQGO"
      },
      "execution_count": null,
      "outputs": []
    },
    {
      "cell_type": "code",
      "source": [
        "# Inverse QFT and measurement\n",
        "qpe.append(QFT(num_eval_qubits, inverse=True), range(num_qubits, num_qubits + num_eval_qubits))\n",
        "qpe.measure(range(num_qubits, num_qubits + num_eval_qubits), range(num_eval_qubits))"
      ],
      "metadata": {
        "id": "_0fGZkAGjJuX",
        "collapsed": true
      },
      "execution_count": null,
      "outputs": []
    },
    {
      "cell_type": "code",
      "source": [
        "qpe.barrier()\n",
        "qpe.draw('mpl')"
      ],
      "metadata": {
        "collapsed": true,
        "id": "f6TqPsASoYih"
      },
      "execution_count": null,
      "outputs": []
    },
    {
      "cell_type": "markdown",
      "source": [
        "# Assign Parameters"
      ],
      "metadata": {
        "id": "y0kGkjeXmqOC"
      }
    },
    {
      "cell_type": "code",
      "source": [
        "all_eigvecs = []\n",
        "i =0\n",
        "for sample_idx in range(num_samples//8):\n",
        "    if i % 100 == 0 :\n",
        "      print(i)\n",
        "    sample = X_normalized[sample_idx]\n",
        "\n",
        "    # Assigning parameters to the sample\n",
        "    parameter_binds = {param: sample[i % num_qubits] for i, param in enumerate(feature_map.parameters)}\n",
        "    bound_qpe = qpe.assign_parameters(parameter_binds)\n",
        "\n",
        "    # Separating data qubits\n",
        "    data_circuit = QuantumCircuit(num_qubits )\n",
        "    for instruction in bound_qpe.data:\n",
        "        if all(qubit in bound_qpe.qubits[:num_qubits] for qubit in instruction.qubits):\n",
        "            qubit_indices = [bound_qpe.qubits.index(q) for q in instruction.qubits]\n",
        "            data_circuit.append(instruction.operation, qubit_indices)\n",
        "\n",
        "    # Transpilation of the circuit for compatibility with the state vector simulator\n",
        "    simulator = Aer.get_backend('statevector_simulator')\n",
        "    transpiled_circuit = transpile(data_circuit, simulator)\n",
        "\n",
        "    # Implementation of the piled transformer circuit\n",
        "    result = simulator.run(transpiled_circuit).result()\n",
        "    statevector = result.get_statevector()\n",
        "\n",
        "    # Constructing a density matrix from a quantum state\n",
        "    rho_estimated = np.outer(statevector.data, np.conj(statevector.data))\n",
        "    rho_estimated = (rho_estimated + rho_estimated.T.conj()) / 2\n",
        "\n",
        "    # Extracting eigenvectors\n",
        "    eigvals, eigvecs = np.linalg.eigh(rho_estimated)\n",
        "    all_eigvecs.append(eigvecs)\n",
        "    i += 1"
      ],
      "metadata": {
        "id": "kdYkcqriHL7A",
        "collapsed": true
      },
      "execution_count": null,
      "outputs": []
    },
    {
      "cell_type": "code",
      "source": [
        "qpe.barrier()\n",
        "qpe.draw('mpl')"
      ],
      "metadata": {
        "collapsed": true,
        "id": "mnUbU2YaZNNu"
      },
      "execution_count": null,
      "outputs": []
    },
    {
      "cell_type": "markdown",
      "source": [
        "# Vectors"
      ],
      "metadata": {
        "id": "6LGPZKKemxWi"
      }
    },
    {
      "cell_type": "code",
      "source": [
        "# Averaging of eigenvectors\n",
        "avg_eigvecs = np.mean(all_eigvecs, axis=0)\n",
        "top_eigvecs = avg_eigvecs.real[:, :num_target_dim]"
      ],
      "metadata": {
        "id": "REycxmSTjWBw"
      },
      "execution_count": null,
      "outputs": []
    },
    {
      "cell_type": "markdown",
      "source": [
        "# Decompose"
      ],
      "metadata": {
        "id": "BzaaWE0Cm4O_"
      }
    },
    {
      "cell_type": "code",
      "source": [
        "# Data dimensionality reduction with eigenvector averaging\n",
        "X_qpca = X_normalized[:55700] @ top_eigvecs"
      ],
      "metadata": {
        "id": "XDS7QPqMjYlp"
      },
      "execution_count": null,
      "outputs": []
    },
    {
      "cell_type": "code",
      "source": [
        "print(\"Reduced data with QPCA (Averaged):\\n\", X_qpca)"
      ],
      "metadata": {
        "collapsed": true,
        "id": "3SyevRnGjcAQ"
      },
      "execution_count": null,
      "outputs": []
    },
    {
      "cell_type": "markdown",
      "source": [
        "# **compair with PCA**"
      ],
      "metadata": {
        "id": "MqlBvp5Djy7V"
      }
    },
    {
      "cell_type": "code",
      "source": [
        "pca = PCA(n_components=num_target_dim)\n",
        "X_reduced = pca.fit_transform(X_normalized[:55700])"
      ],
      "metadata": {
        "id": "e2w4yHWAjhPF"
      },
      "execution_count": null,
      "outputs": []
    },
    {
      "cell_type": "markdown",
      "source": [
        "# SVC MODEL(PCA,QPCA)"
      ],
      "metadata": {
        "id": "qj98N3NCklcA"
      }
    },
    {
      "cell_type": "code",
      "source": [
        "from sklearn.svm import SVC\n",
        "from sklearn.metrics import accuracy_score, f1_score, roc_auc_score, classification_report\n",
        "from sklearn.preprocessing import LabelBinarizer"
      ],
      "metadata": {
        "id": "OSwlSmlBk_4r"
      },
      "execution_count": null,
      "outputs": []
    },
    {
      "cell_type": "code",
      "source": [
        "X_test_pca = pca.transform(X_test_normalized)"
      ],
      "metadata": {
        "id": "FxorH7ZZlJw0"
      },
      "execution_count": null,
      "outputs": []
    },
    {
      "cell_type": "code",
      "source": [
        "X_test_qpca = X_test_normalized @ top_eigvecs"
      ],
      "metadata": {
        "id": "qgGqr9calMTD"
      },
      "execution_count": null,
      "outputs": []
    },
    {
      "cell_type": "code",
      "source": [
        "svm_pca = SVC(probability=True).fit(X_reduced, y_train.ravel()[:55700])"
      ],
      "metadata": {
        "id": "9J4VsLxMlPhK"
      },
      "execution_count": null,
      "outputs": []
    },
    {
      "cell_type": "code",
      "source": [
        "svm_qpca = SVC(probability=True).fit(X_qpca, y_train.ravel()[:55700])"
      ],
      "metadata": {
        "id": "1qfr7PJMlSUT"
      },
      "execution_count": null,
      "outputs": []
    },
    {
      "cell_type": "code",
      "source": [
        "y_pred_pca = svm_pca.predict(X_test_pca)"
      ],
      "metadata": {
        "id": "GwqZGZYolVYT"
      },
      "execution_count": null,
      "outputs": []
    },
    {
      "cell_type": "code",
      "source": [
        "y_pred_qpca = svm_qpca.predict(X_test_qpca)"
      ],
      "metadata": {
        "id": "CM00pR1xlYbT"
      },
      "execution_count": null,
      "outputs": []
    },
    {
      "cell_type": "code",
      "source": [
        "# 4. Calculating evaluation criteria\n",
        "# --------------------------------------------------\n",
        "def calculate_metrics(y_true, y_pred):\n",
        "    accuracy = accuracy_score(y_true, y_pred)\n",
        "    f1 = f1_score(y_true, y_pred, average='weighted')\n",
        "\n",
        "    # Calculating AUC for multiple classes\n",
        "    lb = LabelBinarizer()\n",
        "    y_true_bin = lb.fit_transform(y_true)\n",
        "    y_pred_bin = lb.transform(y_pred)\n",
        "\n",
        "    auc = roc_auc_score(y_true_bin, y_pred_bin, multi_class='ovo')\n",
        "    return accuracy, f1, auc"
      ],
      "metadata": {
        "id": "OYv2K9O2lf__"
      },
      "execution_count": null,
      "outputs": []
    },
    {
      "cell_type": "code",
      "source": [
        "# Calculation for PCA\n",
        "acc_pca, f1_pca, auc_pca = calculate_metrics(y_test.ravel(), y_pred_pca)"
      ],
      "metadata": {
        "id": "WUSqS1QWlj93"
      },
      "execution_count": null,
      "outputs": []
    },
    {
      "cell_type": "code",
      "source": [
        "# Calculation for QPCA\n",
        "acc_qpca, f1_qpca, auc_qpca = calculate_metrics(y_test.ravel(), y_pred_qpca)"
      ],
      "metadata": {
        "id": "hDINkK2llnkQ"
      },
      "execution_count": null,
      "outputs": []
    },
    {
      "cell_type": "code",
      "source": [
        "# 5. Show results\n",
        "# --------------------------------------------------\n",
        "print(\"\\n\" + \"=\"*40)\n",
        "print(\"Comparing the performance of PCA and QPCA in classification\")\n",
        "print(\"=\"*40)\n",
        "print(f\"{'Metric':<15} | {'PCA':<10} | {'QPCA':<10}\")\n",
        "print(\"-\"*40)\n",
        "print(f\"{'Accuracy':<15} | {acc_pca:.4f}    | {acc_qpca:.4f}\")\n",
        "print(f\"{'F1-Score':<15} | {f1_pca:.4f}    | {f1_qpca:.4f}\")\n",
        "print(f\"{'AUC-OVO':<15} | {auc_pca:.4f}    | {auc_qpca:.4f}\")\n",
        "print(\"=\"*40)\n",
        "\n",
        "# Full classification report\n",
        "print(\"\\nClassification report for PCA:\")\n",
        "print(classification_report(y_test, y_pred_pca))\n",
        "\n",
        "print(\"\\nClassification report for QPCA:\")\n",
        "print(classification_report(y_test, y_pred_qpca))\n",
        "\n",
        "metrics = ['Accuracy', 'F1-Score', 'AUC-OVO']\n",
        "pca_scores = [acc_pca, f1_pca, auc_pca]\n",
        "qpca_scores = [acc_qpca, f1_qpca, auc_qpca]"
      ],
      "metadata": {
        "id": "eQ8ZvHQNluTP",
        "collapsed": true
      },
      "execution_count": null,
      "outputs": []
    },
    {
      "cell_type": "code",
      "source": [
        "plt.figure(figsize=(10, 6))\n",
        "plt.plot(metrics, pca_scores, 'o-', label='PCA', color='blue', markersize=8)\n",
        "plt.plot(metrics, qpca_scores, 's--', label='QPCA', color='red', alpha=0.7)\n",
        "plt.xlabel('Evaluation criteria', fontsize=20)\n",
        "plt.ylabel('Amount', fontsize=20)\n",
        "plt.title('Comparing the performance of PCA and QPCA in classification', fontsize=20)\n",
        "plt.ylim(0, 1.5)\n",
        "plt.grid(True, linestyle='--', alpha=0.5)\n",
        "plt.legend()\n",
        "plt.show()"
      ],
      "metadata": {
        "id": "R9H7n0C7l1On",
        "collapsed": true
      },
      "execution_count": null,
      "outputs": []
    },
    {
      "cell_type": "markdown",
      "source": [
        "# PLOT"
      ],
      "metadata": {
        "id": "UoQEYLYBmBaz"
      }
    },
    {
      "cell_type": "code",
      "source": [
        "plt.figure(figsize=(18, 6))\n",
        "\n",
        "plt.scatter(X_qpca[:, 0], X_qpca[:, 1],c=Y_normalized[:55700],cmap='viridis', edgecolor='k', s=50)\n",
        "plt.title(f'Qpca Visualization')\n",
        "plt.xlabel('Component 1')\n",
        "plt.ylabel('Component 2')\n",
        "\n",
        "plt.tight_layout()\n",
        "plt.show()"
      ],
      "metadata": {
        "id": "EUwh5alnl7FO",
        "collapsed": true
      },
      "execution_count": null,
      "outputs": []
    },
    {
      "cell_type": "code",
      "source": [
        "pca = PCA(n_components=4)\n",
        "\n",
        "plt.figure(figsize=(18, 6))\n",
        "\n",
        "X_reduced = pca.fit_transform(X_normalized)\n",
        "\n",
        "plt.scatter(X_reduced[:55700, 0], X_reduced[:55700, 1], c=Y_normalized[:55700],\n",
        "            cmap='viridis', edgecolor='k', s=50)\n",
        "plt.title(f'pca Visualization')\n",
        "plt.xlabel('Component 1')\n",
        "plt.ylabel('Component 2')\n",
        "\n",
        "plt.tight_layout()\n",
        "plt.show()"
      ],
      "metadata": {
        "id": "hKNkc2iFl-k2",
        "collapsed": true
      },
      "execution_count": null,
      "outputs": []
    },
    {
      "cell_type": "code",
      "source": [
        "\n",
        "from sklearn.metrics import (mean_absolute_error, mean_squared_error, r2_score,accuracy_score, precision_score, recall_score, f1_score,confusion_matrix)\n",
        "import seaborn as sns\n",
        "# Classification evaluation\n",
        "print(\"\\nSVC-PCA:\")\n",
        "print(f\"Accuracy: {acc_pca:.2f}\")\n",
        "print(f\"Precision: {auc_pca:.2f}\")\n",
        "# print(f\"Recall: {recall_score(y_cls_test, y_cls_pred_logreg, average='macro'):.2f}\")\n",
        "print(f\"F1-Score: {f1_pca:.2f}\")\n",
        "\n",
        "print(\"\\nSVC-QPCA:\")\n",
        "print(f\"Accuracy: {acc_qpca:.2f}\")\n",
        "print(f\"Precision: {auc_qpca:.2f}\")\n",
        "# print(f\"Recall: {recall_score(y_cls_test, y_cls_pred_svc, average='macro'):.2f}\")\n",
        "print(f\"F1-Score: {f1_qpca:.2f}\")\n",
        "\n",
        "# Confusion matrices\n",
        "plt.figure(figsize=(12, 6))\n",
        "plt.subplot(1, 2, 1)\n",
        "sns.heatmap(confusion_matrix(y_test.ravel(), y_pred_pca),\n",
        "            annot=True, fmt='d', cmap='Blues')\n",
        "plt.title('SVC-PCA')\n",
        "plt.xlabel('Predicted')\n",
        "plt.ylabel('Actual')\n",
        "\n",
        "plt.subplot(1, 2, 2)\n",
        "sns.heatmap(confusion_matrix(y_test.ravel(),y_pred_qpca),\n",
        "            annot=True, fmt='d', cmap='Blues')\n",
        "plt.title('SVC-QPCA')\n",
        "plt.xlabel('Predicted')\n",
        "plt.ylabel('Actual')\n",
        "\n",
        "plt.tight_layout()\n",
        "plt.show()"
      ],
      "metadata": {
        "id": "0i1aDe475kUV",
        "collapsed": true
      },
      "execution_count": null,
      "outputs": []
    },
    {
      "cell_type": "code",
      "source": [
        "import time\n",
        "from sklearn.metrics import mean_squared_error\n",
        "from sklearn.decomposition import PCA\n",
        "from qiskit.quantum_info import state_fidelity\n",
        "\n",
        "# 1. RMSE between original and reconstructed data\n",
        "def calculate_rmse(original, reconstructed):\n",
        "    return np.sqrt(mean_squared_error(original, reconstructed))\n",
        "\n",
        "# 2. EVR (Explained Variance Ratio)\n",
        "def explained_variance_ratio(X_original, X_reduced, components):\n",
        "    X_reconstructed = X_reduced @ components.T\n",
        "    total_variance = np.var(X_original, axis=0).sum()\n",
        "    explained_variance = np.var(X_reconstructed, axis=0).sum()\n",
        "    return explained_variance / total_variance\n",
        "\n",
        "# 3. CR (Compression Ratio)\n",
        "def compression_ratio(original_dim, compressed_dim):\n",
        "    return original_dim / compressed_dim\n",
        "\n",
        "# 4. execution time\n",
        "def measure_execution_time(func):\n",
        "    start_time = time.time()\n",
        "    result = func()\n",
        "    end_time = time.time()\n",
        "    return result, end_time - start_time\n",
        "\n",
        "# 5. Quantum Fidelity\n",
        "def quantum_fidelity(state1, state2):\n",
        "    return state_fidelity(state1, state2)\n",
        "\n",
        "# 6. Classification Accuracy (Calculated in the previous section)"
      ],
      "metadata": {
        "id": "M5jMzqlBh048"
      },
      "execution_count": null,
      "outputs": []
    },
    {
      "cell_type": "code",
      "source": [
        "# 1. RMSE for PCA and QPCA\n",
        "X_reconstructed_pca = X_reduced @ pca.components_\n",
        "X_reconstructed_qpca = X_qpca @ top_eigvecs.T\n",
        "\n",
        "rmse_pca = calculate_rmse(X_normalized[:55700], X_reconstructed_pca[:55700])\n",
        "rmse_qpca = calculate_rmse(X_normalized[:55700], X_reconstructed_qpca[:55700])\n",
        "\n",
        "# 2. EVR for PCA and QPCA\n",
        "evr_pca = explained_variance_ratio(X_normalized, X_reduced, pca.components_)\n",
        "evr_qpca = explained_variance_ratio(X_normalized, X_qpca, top_eigvecs)\n",
        "\n",
        "# 3. CR\n",
        "cr_pca = compression_ratio(X_normalized.shape[1], X_reduced.shape[1])\n",
        "cr_qpca = compression_ratio(X_normalized.shape[1], X_qpca.shape[1])\n",
        "\n",
        "# 4. execution time  (Example: Conversion time  PCA)\n",
        "_, exec_time_pca = measure_execution_time(lambda: pca.transform(X_test_normalized))\n",
        "_, exec_time_qpca = measure_execution_time(lambda: X_test_normalized @ top_eigvecs)\n",
        "\n",
        "# 5. Quantum Fidelity (Between two quantum states)\n",
        "# Each sample is assumed to have a quantum state.\n",
        "# For example, the first example of PCA and QPCA\n",
        "statevector_simulator = Aer.get_backend('statevector_simulator')\n",
        "\n",
        "#  PCA mode (Simulation as a quantum state)\n",
        "qc_pca = QuantumCircuit(num_qubits)\n",
        "for i in range(num_qubits):\n",
        "    qc_pca.ry(X_normalized[0, i], i)\n",
        "state_pca = Statevector(qc_pca).evolve(transpile(qc_pca, simulator))\n",
        "\n",
        "#  QPCA mode\n",
        "qc_qpca = QuantumCircuit(num_qubits)\n",
        "for i in range(num_qubits):\n",
        "    qc_qpca.ry(X_qpca[0, i % num_target_dim], i)\n",
        "state_qpca = Statevector(qc_qpca).evolve(transpile(qc_qpca, simulator))\n",
        "\n",
        "fid = quantum_fidelity(state_pca, state_qpca)"
      ],
      "metadata": {
        "id": "WCaQRyPIh60U"
      },
      "execution_count": null,
      "outputs": []
    },
    {
      "cell_type": "code",
      "source": [
        "# Show results\n",
        "print(\"\\n\" + \"=\" * 40)\n",
        "print(\"Evaluation Metrics for PCA and QPCA\")\n",
        "print(\"=\" * 40)\n",
        "print(f\"{'Metric':<20} | {'PCA':<10} | {'QPCA':<10}\")\n",
        "print(\"-\" * 40)\n",
        "print(f\"{'RMSE':<20} | {rmse_pca:.4f}   | {rmse_qpca:.4f}\")\n",
        "print(f\"{'EVR':<20} | {evr_pca:.4f}   | {evr_qpca:.4f}\")\n",
        "print(f\"{'CR':<20} | {cr_pca:.4f}   | {cr_qpca:.4f}\")\n",
        "print(f\"{'Execution Time (s)':<20} | {exec_time_pca:.4f}   | {exec_time_qpca:.4f}\")\n",
        "print(f\"{'Quantum Fidelity':<20} | {'-':<10} | {fid:.4f}\")\n",
        "print(\"=\" * 40)"
      ],
      "metadata": {
        "id": "EhXjSyAgh97E",
        "collapsed": true
      },
      "execution_count": null,
      "outputs": []
    },
    {
      "cell_type": "code",
      "source": [
        "# Calculating temporal RMSE for PCA and QPCA\n",
        "rmse_temporal_pca = []\n",
        "rmse_temporal_qpca = []\n",
        "\n",
        "for i in range(len(X_normalized[:55700])):\n",
        "    # PCA and QPCA data reconstruction\n",
        "    X_reconstructed_pca = X_reduced[i] @ pca.components_\n",
        "    X_reconstructed_qpca = X_qpca[i] @ top_eigvecs.T\n",
        "\n",
        "    # Calculate RMSE for each sample\n",
        "    rmse_pca = np.sqrt(mean_squared_error(X_normalized[i], X_reconstructed_pca))\n",
        "    rmse_qpca = np.sqrt(mean_squared_error(X_normalized[i], X_reconstructed_qpca))\n",
        "\n",
        "    rmse_temporal_pca.append(rmse_pca)\n",
        "    rmse_temporal_qpca.append(rmse_qpca)\n",
        "\n",
        "# Plotting the RMSE over time graph\n",
        "plt.figure(figsize=(12, 6))\n",
        "plt.plot(rmse_temporal_pca, label='PCA', color='blue', alpha=0.7)\n",
        "plt.plot(rmse_temporal_qpca, label='QPCA', color='red', alpha=0.7)\n",
        "plt.title('Temporal RMSE')\n",
        "plt.xlabel('Time Step')\n",
        "plt.ylabel('RMSE')\n",
        "plt.legend()\n",
        "plt.grid(True)\n",
        "plt.show()"
      ],
      "metadata": {
        "id": "hexfC5KSkS9Y",
        "collapsed": true
      },
      "execution_count": null,
      "outputs": []
    },
    {
      "cell_type": "code",
      "source": [
        "# Cumulative EVR for PCA\n",
        "explained_variance_pca = pca.explained_variance_ratio_\n",
        "cumulative_evr_pca = np.cumsum(explained_variance_pca)\n",
        "\n",
        "# Cumulative EVR for QPCA (Assumption: top_eigvecs has eigenvectors)\n",
        "# Calculating EVR for QPCA\n",
        "explained_variance_qpca = np.var(X_qpca, axis=0) / np.var(X_normalized[:55700], axis=0).sum()\n",
        "cumulative_evr_qpca = np.cumsum(explained_variance_qpca)\n",
        "\n",
        "# Plotting the cumulative EVR chart\n",
        "plt.figure(figsize=(10, 6))\n",
        "plt.plot(cumulative_evr_pca, 'o-', label='PCA', color='blue')\n",
        "plt.plot(range(num_target_dim), cumulative_evr_qpca, 's--', label='QPCA', color='red')\n",
        "plt.title('Cumulative Explained Variance Ratio')\n",
        "plt.xlabel('Components')\n",
        "plt.ylabel('Cumulative EVR')\n",
        "plt.legend()\n",
        "plt.grid(True)\n",
        "plt.show()"
      ],
      "metadata": {
        "id": "wK6ryj92lB91",
        "collapsed": true
      },
      "execution_count": null,
      "outputs": []
    },
    {
      "cell_type": "code",
      "source": [
        "# Comparison of PCA and QPCA latent space\n",
        "plt.figure(figsize=(12, 6))\n",
        "\n",
        "# PCA\n",
        "plt.subplot(1, 2, 1)\n",
        "plt.scatter(X_reduced[:55700, 0], X_reduced[:55700, 1], c=y_train[:55700], cmap='viridis', edgecolor='k', s=50)\n",
        "plt.title('PCA Latent Space')\n",
        "plt.xlabel('Component 1')\n",
        "plt.ylabel('Component 2')\n",
        "\n",
        "# QPCA\n",
        "plt.subplot(1, 2, 2)\n",
        "plt.scatter(X_qpca[:55700, 0], X_qpca[:55700, 1], c=y_train[:55700], cmap='viridis', edgecolor='k', s=50)\n",
        "plt.title('QPCA Latent Space')\n",
        "plt.xlabel('Component 1')\n",
        "plt.ylabel('Component 2')\n",
        "\n",
        "plt.tight_layout()\n",
        "plt.show()"
      ],
      "metadata": {
        "id": "DwUKpu9vlSgn",
        "collapsed": true
      },
      "execution_count": null,
      "outputs": []
    },
    {
      "cell_type": "code",
      "source": [
        "# Assumption: computational_cost_pca و computational_cost_qpca Calculated from execution time\n",
        "# Calculating CR\n",
        "cr_pca = compression_ratio(X_normalized.shape[1], X_reduced.shape[1])\n",
        "cr_qpca = compression_ratio(X_normalized.shape[1], X_qpca.shape[1])\n",
        "\n",
        "# Plotting the CR vs Computational Cost graph\n",
        "plt.figure(figsize=(8, 5))\n",
        "plt.scatter([cr_pca], [exec_time_pca], color='blue', label='PCA', s=100)\n",
        "plt.scatter([cr_qpca], [exec_time_qpca], color='red', label='QPCA', s=100)\n",
        "plt.xlabel(\"Compression Ratio (CR)\")\n",
        "plt.ylabel(\"Computational Cost (Execution Time)\")\n",
        "plt.title(\"CR vs Computational Cost\")\n",
        "plt.legend()\n",
        "plt.grid(True)\n",
        "plt.show()"
      ],
      "metadata": {
        "id": "mmEyqkKHlfJY",
        "collapsed": true
      },
      "execution_count": null,
      "outputs": []
    },
    {
      "cell_type": "code",
      "source": [
        "# Runtime comparison\n",
        "plt.figure(figsize=(8, 5))\n",
        "plt.bar(['PCA', 'QPCA'], [exec_time_pca, exec_time_qpca], color=['blue', 'red'])\n",
        "plt.ylabel('Execution Time (s)')\n",
        "plt.title('Execution Time Comparison')\n",
        "plt.grid(True)\n",
        "plt.show()"
      ],
      "metadata": {
        "id": "29ahvprbnFjU",
        "collapsed": true
      },
      "execution_count": null,
      "outputs": []
    },
    {
      "cell_type": "code",
      "source": [
        "# Plotting CR vs RMSE\n",
        "plt.figure(figsize=(8, 5))\n",
        "plt.scatter([cr_pca], [rmse_pca], color='blue', label='PCA', s=100)\n",
        "plt.scatter([cr_qpca], [rmse_qpca], color='red', label='QPCA', s=100)\n",
        "plt.xlabel(\"Compression Ratio (CR)\")\n",
        "plt.ylabel(\"RMSE\")\n",
        "plt.title(\"CR vs RMSE\")\n",
        "plt.legend()\n",
        "plt.grid(True)\n",
        "plt.show()"
      ],
      "metadata": {
        "id": "mgW4HG0LnPUz",
        "collapsed": true
      },
      "execution_count": null,
      "outputs": []
    },
    {
      "cell_type": "code",
      "source": [
        "# Calculate Quantum Fidelity for all samples\n",
        "fidelities = []\n",
        "for i in range(min(10, len(X_normalized[:55700]))):  # Only the first 10 samples for speed\n",
        "    # PCA mode\n",
        "    qc_pca = QuantumCircuit(num_qubits)\n",
        "    for j in range(num_qubits):\n",
        "        qc_pca.ry(X_normalized[i, j], j)\n",
        "    state_pca = Statevector(qc_pca).evolve(transpile(qc_pca, simulator))\n",
        "\n",
        "    # QPCA mode\n",
        "    qc_qpca = QuantumCircuit(num_qubits)\n",
        "    for j in range(num_qubits):\n",
        "        qc_qpca.ry(X_qpca[i, j % num_target_dim], j)\n",
        "    state_qpca = Statevector(qc_qpca).evolve(transpile(qc_qpca, simulator))\n",
        "\n",
        "    # Fidelity calculation\n",
        "    fid = quantum_fidelity(state_pca, state_qpca)\n",
        "    fidelities.append(fid)\n",
        "\n",
        "# Quantum Fidelity Drawing\n",
        "plt.figure(figsize=(10, 6))\n",
        "plt.plot(fidelities, 'o-', color='green')\n",
        "plt.title('Quantum Fidelity Over Samples')\n",
        "plt.xlabel('Sample Index')\n",
        "plt.ylabel('Fidelity')\n",
        "plt.grid(True)\n",
        "plt.show()"
      ],
      "metadata": {
        "id": "7VeP8RmUngh7",
        "collapsed": true
      },
      "execution_count": null,
      "outputs": []
    },
    {
      "cell_type": "code",
      "source": [
        "# Comparing classification accuracy\n",
        "plt.figure(figsize=(8, 5))\n",
        "plt.bar(['PCA', 'QPCA'], [acc_pca, acc_qpca], color=['blue', 'red'])\n",
        "plt.ylabel('Accuracy')\n",
        "plt.title('Classification Accuracy Comparison')\n",
        "plt.grid(True)\n",
        "plt.show()"
      ],
      "metadata": {
        "id": "eWHmFWUAnotL",
        "collapsed": true
      },
      "execution_count": null,
      "outputs": []
    },
    {
      "cell_type": "code",
      "source": [
        "list1 = []\n",
        "list1.extend(x for x in range(10))"
      ],
      "metadata": {
        "id": "v7iT82insBGO"
      },
      "execution_count": null,
      "outputs": []
    },
    {
      "cell_type": "code",
      "source": [
        "list1"
      ],
      "metadata": {
        "id": "orTLz4gnsOsI",
        "collapsed": true
      },
      "execution_count": null,
      "outputs": []
    }
  ]
}